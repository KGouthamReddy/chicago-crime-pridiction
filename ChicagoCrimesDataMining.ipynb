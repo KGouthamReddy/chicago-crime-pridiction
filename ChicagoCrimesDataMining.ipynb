{
 "cells": [
  {
   "cell_type": "code",
   "execution_count": 1,
   "id": "2a4ff382-fdca-478b-865d-ce4f6074a292",
   "metadata": {},
   "outputs": [],
   "source": [
    "import pandas as pd\n",
    "import numpy as np"
   ]
  },
  {
   "cell_type": "code",
   "execution_count": 2,
   "id": "9068243e-d02c-4a0e-b230-e2747a6e0291",
   "metadata": {},
   "outputs": [
    {
     "name": "stdout",
     "output_type": "stream",
     "text": [
      "      CASE#     DATE  OF OCCURRENCE                 BLOCK  IUCR  \\\n",
      "0  JG497095  11/08/2023 08:50:00 PM   025XX N KEDZIE BLVD  0810   \n",
      "1  JG496991  11/08/2023 03:14:00 PM   0000X W CHICAGO AVE  0560   \n",
      "2  JG497145  11/08/2023 10:55:00 PM       019XX W 47TH ST  051A   \n",
      "3  JH179051  03/07/2024 02:15:00 PM      070XX S STATE ST  0820   \n",
      "4  JH178785  03/07/2024 04:53:00 AM  077XX S CARPENTER ST  0810   \n",
      "\n",
      "   PRIMARY DESCRIPTION  SECONDARY DESCRIPTION  LOCATION DESCRIPTION ARREST  \\\n",
      "0                THEFT              OVER $500                STREET      N   \n",
      "1              ASSAULT                 SIMPLE                STREET      N   \n",
      "2              ASSAULT   AGGRAVATED - HANDGUN              SIDEWALK      N   \n",
      "3                THEFT         $500 AND UNDER    GROCERY FOOD STORE      Y   \n",
      "4                THEFT              OVER $500                STREET      N   \n",
      "\n",
      "  DOMESTIC  BEAT  WARD FBI CD  X COORDINATE  Y COORDINATE   LATITUDE  \\\n",
      "0        N  1414  35.0     06     1154609.0     1916759.0  41.927407   \n",
      "1        N  1832  42.0    08A     1176106.0     1905725.0  41.896672   \n",
      "2        N   931  15.0    04A     1164331.0     1873509.0  41.808525   \n",
      "3        N   322   6.0     06     1177506.0     1858207.0  41.766247   \n",
      "4        N   612  17.0     06     1170656.0     1853451.0  41.753348   \n",
      "\n",
      "   LONGITUDE                       LOCATION  \n",
      "0 -87.707294   (41.927407329, -87.70729439)  \n",
      "1 -87.628635  (41.896671699, -87.628635323)  \n",
      "2 -87.672793  (41.808525157, -87.672792896)  \n",
      "3 -87.624933  (41.766246905, -87.624932618)  \n",
      "4 -87.650179  (41.753347902, -87.650178718)  \n"
     ]
    }
   ],
   "source": [
    "df = pd.read_csv('Crimes.csv')\n",
    "print(df.head())"
   ]
  },
  {
   "cell_type": "code",
   "execution_count": 3,
   "id": "83347e05-36b9-4dda-a0bc-786fed411565",
   "metadata": {},
   "outputs": [
    {
     "name": "stdout",
     "output_type": "stream",
     "text": [
      "Index(['CASE#', 'DATE  OF OCCURRENCE', 'BLOCK', ' IUCR',\n",
      "       ' PRIMARY DESCRIPTION', ' SECONDARY DESCRIPTION',\n",
      "       ' LOCATION DESCRIPTION', 'ARREST', 'DOMESTIC', 'BEAT', 'WARD', 'FBI CD',\n",
      "       'X COORDINATE', 'Y COORDINATE', 'LATITUDE', 'LONGITUDE', 'LOCATION'],\n",
      "      dtype='object')\n"
     ]
    }
   ],
   "source": [
    "print(df.columns)"
   ]
  },
  {
   "cell_type": "code",
   "execution_count": 4,
   "id": "a501227e-f87b-4090-84fb-15c855cbbe72",
   "metadata": {},
   "outputs": [],
   "source": [
    "crime_df = pd.DataFrame(df)"
   ]
  },
  {
   "cell_type": "code",
   "execution_count": 5,
   "id": "ba115de8-ac52-47d3-a136-480747d2f702",
   "metadata": {},
   "outputs": [],
   "source": [
    "crime_df.rename(columns = {'DATE OF OCCURRENCE':'DATE'}, inplace = True)"
   ]
  },
  {
   "cell_type": "code",
   "execution_count": 6,
   "id": "c104d11d-e96c-4324-a2f6-576685934f1e",
   "metadata": {},
   "outputs": [
    {
     "name": "stdout",
     "output_type": "stream",
     "text": [
      "Index(['CASE#', 'DATE  OF OCCURRENCE', 'BLOCK', ' IUCR',\n",
      "       ' PRIMARY DESCRIPTION', ' SECONDARY DESCRIPTION',\n",
      "       ' LOCATION DESCRIPTION', 'ARREST', 'DOMESTIC', 'BEAT', 'WARD', 'FBI CD',\n",
      "       'X COORDINATE', 'Y COORDINATE', 'LATITUDE', 'LONGITUDE', 'LOCATION'],\n",
      "      dtype='object')\n"
     ]
    }
   ],
   "source": [
    "print(crime_df.columns)"
   ]
  },
  {
   "cell_type": "code",
   "execution_count": 7,
   "id": "54047091-ab85-4f14-bcc1-3174531cf529",
   "metadata": {},
   "outputs": [
    {
     "name": "stdout",
     "output_type": "stream",
     "text": [
      "CASE#                        0\n",
      "DATE  OF OCCURRENCE          0\n",
      "BLOCK                        0\n",
      " IUCR                        0\n",
      " PRIMARY DESCRIPTION         0\n",
      " SECONDARY DESCRIPTION       0\n",
      " LOCATION DESCRIPTION     1173\n",
      "ARREST                       0\n",
      "DOMESTIC                     0\n",
      "BEAT                         0\n",
      "WARD                         2\n",
      "FBI CD                       0\n",
      "X COORDINATE                91\n",
      "Y COORDINATE                91\n",
      "LATITUDE                    91\n",
      "LONGITUDE                   91\n",
      "LOCATION                    91\n",
      "dtype: int64\n"
     ]
    }
   ],
   "source": [
    "print(df.isnull().sum())"
   ]
  },
  {
   "cell_type": "code",
   "execution_count": 8,
   "id": "59730e19-e298-40d6-8643-b25ea09b4176",
   "metadata": {},
   "outputs": [
    {
     "name": "stdout",
     "output_type": "stream",
     "text": [
      " LOCATION DESCRIPTION    0.453663\n",
      "WARD                     0.000774\n",
      "X COORDINATE             0.035195\n",
      "Y COORDINATE             0.035195\n",
      "LATITUDE                 0.035195\n",
      "LONGITUDE                0.035195\n",
      "LOCATION                 0.035195\n",
      "dtype: float64\n"
     ]
    }
   ],
   "source": [
    "missing_data = df.isnull().mean() * 100\n",
    "print(missing_data[missing_data > 0])"
   ]
  },
  {
   "cell_type": "code",
   "execution_count": 9,
   "id": "839482ea-b520-4aa1-9d53-89b6252f13fb",
   "metadata": {},
   "outputs": [],
   "source": [
    "df[' LOCATION DESCRIPTION'].fillna('Unknown', inplace=True)"
   ]
  },
  {
   "cell_type": "code",
   "execution_count": 10,
   "id": "a33b365f-773d-4822-8933-0a8f72382ecd",
   "metadata": {},
   "outputs": [],
   "source": [
    "df.rename(columns = {' LOCATION DESCRIPTION':'LOCATION DESCRIPTION'}, inplace = True)"
   ]
  },
  {
   "cell_type": "code",
   "execution_count": 11,
   "id": "2449da19-d612-4997-804b-0cc573193b84",
   "metadata": {},
   "outputs": [
    {
     "name": "stdout",
     "output_type": "stream",
     "text": [
      "Index(['CASE#', 'DATE  OF OCCURRENCE', 'BLOCK', ' IUCR',\n",
      "       ' PRIMARY DESCRIPTION', ' SECONDARY DESCRIPTION',\n",
      "       'LOCATION DESCRIPTION', 'ARREST', 'DOMESTIC', 'BEAT', 'WARD', 'FBI CD',\n",
      "       'X COORDINATE', 'Y COORDINATE', 'LATITUDE', 'LONGITUDE', 'LOCATION'],\n",
      "      dtype='object')\n"
     ]
    }
   ],
   "source": [
    "print(df.columns)"
   ]
  },
  {
   "cell_type": "code",
   "execution_count": 12,
   "id": "febe3690-bb92-4015-8c69-2028bdbd6543",
   "metadata": {},
   "outputs": [
    {
     "name": "stdout",
     "output_type": "stream",
     "text": [
      "0\n"
     ]
    }
   ],
   "source": [
    "print(df['LOCATION DESCRIPTION'].isnull().sum())"
   ]
  },
  {
   "cell_type": "code",
   "execution_count": 13,
   "id": "711187f0-15c1-4209-919d-f5bcb9e9ffee",
   "metadata": {},
   "outputs": [],
   "source": [
    "df['WARD'].fillna(df['WARD'].median(), inplace=True)\n",
    "\n",
    "df['X COORDINATE'].fillna(df['X COORDINATE'].median(), inplace=True)\n",
    "df['Y COORDINATE'].fillna(df['Y COORDINATE'].median(), inplace=True)\n",
    "df['LATITUDE'].fillna(df['LATITUDE'].median(), inplace=True)\n",
    "df['LONGITUDE'].fillna(df['LONGITUDE'].median(), inplace=True)"
   ]
  },
  {
   "cell_type": "code",
   "execution_count": 14,
   "id": "e3bd33eb-a05c-46a3-a8a4-05f3b3577562",
   "metadata": {},
   "outputs": [
    {
     "name": "stdout",
     "output_type": "stream",
     "text": [
      "CASE#                      0\n",
      "DATE  OF OCCURRENCE        0\n",
      "BLOCK                      0\n",
      " IUCR                      0\n",
      " PRIMARY DESCRIPTION       0\n",
      " SECONDARY DESCRIPTION     0\n",
      "LOCATION DESCRIPTION       0\n",
      "ARREST                     0\n",
      "DOMESTIC                   0\n",
      "BEAT                       0\n",
      "WARD                       0\n",
      "FBI CD                     0\n",
      "X COORDINATE               0\n",
      "Y COORDINATE               0\n",
      "LATITUDE                   0\n",
      "LONGITUDE                  0\n",
      "LOCATION                  91\n",
      "dtype: int64\n"
     ]
    }
   ],
   "source": [
    "print(df.isnull().sum())"
   ]
  },
  {
   "cell_type": "code",
   "execution_count": 15,
   "id": "e3eb83e6-6a0a-4c00-9bc1-c71f42993c7c",
   "metadata": {},
   "outputs": [
    {
     "name": "stdout",
     "output_type": "stream",
     "text": [
      "0     (41.927407329, -87.70729439)\n",
      "1    (41.896671699, -87.628635323)\n",
      "2    (41.808525157, -87.672792896)\n",
      "3    (41.766246905, -87.624932618)\n",
      "4    (41.753347902, -87.650178718)\n",
      "Name: LOCATION, dtype: object\n"
     ]
    }
   ],
   "source": [
    "print(df['LOCATION'].head())"
   ]
  },
  {
   "cell_type": "code",
   "execution_count": 16,
   "id": "593e68fe-a256-46a2-a8ec-f9fb6713891e",
   "metadata": {},
   "outputs": [],
   "source": [
    "df['LOCATION'] = df.apply(lambda row: (row['LATITUDE'], row['LONGITUDE']), axis=1)"
   ]
  },
  {
   "cell_type": "code",
   "execution_count": 17,
   "id": "43c68d67-18ac-4fe5-972a-e41689af58c5",
   "metadata": {},
   "outputs": [
    {
     "name": "stdout",
     "output_type": "stream",
     "text": [
      "    LATITUDE  LONGITUDE                       LOCATION\n",
      "0  41.927407 -87.707294   (41.927407329, -87.70729439)\n",
      "1  41.896672 -87.628635  (41.896671699, -87.628635323)\n",
      "2  41.808525 -87.672793  (41.808525157, -87.672792896)\n",
      "3  41.766247 -87.624933  (41.766246905, -87.624932618)\n",
      "4  41.753348 -87.650179  (41.753347902, -87.650178718)\n"
     ]
    }
   ],
   "source": [
    "print(df[['LATITUDE', 'LONGITUDE', 'LOCATION']].head())"
   ]
  },
  {
   "cell_type": "code",
   "execution_count": 18,
   "id": "1774ddeb-e1b1-4343-9a79-f654531a0c52",
   "metadata": {},
   "outputs": [
    {
     "name": "stdout",
     "output_type": "stream",
     "text": [
      "0\n"
     ]
    }
   ],
   "source": [
    "print(df['LOCATION'].isnull().sum())"
   ]
  },
  {
   "cell_type": "code",
   "execution_count": 19,
   "id": "e5558169-cd90-4356-b1fb-f6db83b63927",
   "metadata": {},
   "outputs": [
    {
     "data": {
      "text/html": [
       "<div>\n",
       "<style scoped>\n",
       "    .dataframe tbody tr th:only-of-type {\n",
       "        vertical-align: middle;\n",
       "    }\n",
       "\n",
       "    .dataframe tbody tr th {\n",
       "        vertical-align: top;\n",
       "    }\n",
       "\n",
       "    .dataframe thead th {\n",
       "        text-align: right;\n",
       "    }\n",
       "</style>\n",
       "<table border=\"1\" class=\"dataframe\">\n",
       "  <thead>\n",
       "    <tr style=\"text-align: right;\">\n",
       "      <th></th>\n",
       "      <th>CASE#</th>\n",
       "      <th>DATE</th>\n",
       "      <th>BLOCK</th>\n",
       "      <th>IUCR</th>\n",
       "      <th>PRIMARY DESCRIPTION</th>\n",
       "      <th>SECONDARY DESCRIPTION</th>\n",
       "      <th>LOCATION DESCRIPTION</th>\n",
       "      <th>ARREST</th>\n",
       "      <th>DOMESTIC</th>\n",
       "      <th>BEAT</th>\n",
       "      <th>WARD</th>\n",
       "      <th>FBI CD</th>\n",
       "      <th>X COORDINATE</th>\n",
       "      <th>Y COORDINATE</th>\n",
       "      <th>LATITUDE</th>\n",
       "      <th>LONGITUDE</th>\n",
       "      <th>LOCATION</th>\n",
       "    </tr>\n",
       "  </thead>\n",
       "  <tbody>\n",
       "    <tr>\n",
       "      <th>0</th>\n",
       "      <td>JG497095</td>\n",
       "      <td>11/08/2023 08:50:00 PM</td>\n",
       "      <td>025XX N KEDZIE BLVD</td>\n",
       "      <td>0810</td>\n",
       "      <td>THEFT</td>\n",
       "      <td>OVER $500</td>\n",
       "      <td>STREET</td>\n",
       "      <td>N</td>\n",
       "      <td>N</td>\n",
       "      <td>1414</td>\n",
       "      <td>35.0</td>\n",
       "      <td>06</td>\n",
       "      <td>1154609.0</td>\n",
       "      <td>1916759.0</td>\n",
       "      <td>41.927407</td>\n",
       "      <td>-87.707294</td>\n",
       "      <td>(41.927407329, -87.70729439)</td>\n",
       "    </tr>\n",
       "    <tr>\n",
       "      <th>1</th>\n",
       "      <td>JG496991</td>\n",
       "      <td>11/08/2023 03:14:00 PM</td>\n",
       "      <td>0000X W CHICAGO AVE</td>\n",
       "      <td>0560</td>\n",
       "      <td>ASSAULT</td>\n",
       "      <td>SIMPLE</td>\n",
       "      <td>STREET</td>\n",
       "      <td>N</td>\n",
       "      <td>N</td>\n",
       "      <td>1832</td>\n",
       "      <td>42.0</td>\n",
       "      <td>08A</td>\n",
       "      <td>1176106.0</td>\n",
       "      <td>1905725.0</td>\n",
       "      <td>41.896672</td>\n",
       "      <td>-87.628635</td>\n",
       "      <td>(41.896671699, -87.628635323)</td>\n",
       "    </tr>\n",
       "    <tr>\n",
       "      <th>2</th>\n",
       "      <td>JG497145</td>\n",
       "      <td>11/08/2023 10:55:00 PM</td>\n",
       "      <td>019XX W 47TH ST</td>\n",
       "      <td>051A</td>\n",
       "      <td>ASSAULT</td>\n",
       "      <td>AGGRAVATED - HANDGUN</td>\n",
       "      <td>SIDEWALK</td>\n",
       "      <td>N</td>\n",
       "      <td>N</td>\n",
       "      <td>931</td>\n",
       "      <td>15.0</td>\n",
       "      <td>04A</td>\n",
       "      <td>1164331.0</td>\n",
       "      <td>1873509.0</td>\n",
       "      <td>41.808525</td>\n",
       "      <td>-87.672793</td>\n",
       "      <td>(41.808525157, -87.672792896)</td>\n",
       "    </tr>\n",
       "    <tr>\n",
       "      <th>3</th>\n",
       "      <td>JH179051</td>\n",
       "      <td>03/07/2024 02:15:00 PM</td>\n",
       "      <td>070XX S STATE ST</td>\n",
       "      <td>0820</td>\n",
       "      <td>THEFT</td>\n",
       "      <td>$500 AND UNDER</td>\n",
       "      <td>GROCERY FOOD STORE</td>\n",
       "      <td>Y</td>\n",
       "      <td>N</td>\n",
       "      <td>322</td>\n",
       "      <td>6.0</td>\n",
       "      <td>06</td>\n",
       "      <td>1177506.0</td>\n",
       "      <td>1858207.0</td>\n",
       "      <td>41.766247</td>\n",
       "      <td>-87.624933</td>\n",
       "      <td>(41.766246905, -87.624932618)</td>\n",
       "    </tr>\n",
       "    <tr>\n",
       "      <th>4</th>\n",
       "      <td>JH178785</td>\n",
       "      <td>03/07/2024 04:53:00 AM</td>\n",
       "      <td>077XX S CARPENTER ST</td>\n",
       "      <td>0810</td>\n",
       "      <td>THEFT</td>\n",
       "      <td>OVER $500</td>\n",
       "      <td>STREET</td>\n",
       "      <td>N</td>\n",
       "      <td>N</td>\n",
       "      <td>612</td>\n",
       "      <td>17.0</td>\n",
       "      <td>06</td>\n",
       "      <td>1170656.0</td>\n",
       "      <td>1853451.0</td>\n",
       "      <td>41.753348</td>\n",
       "      <td>-87.650179</td>\n",
       "      <td>(41.753347902, -87.650178718)</td>\n",
       "    </tr>\n",
       "    <tr>\n",
       "      <th>...</th>\n",
       "      <td>...</td>\n",
       "      <td>...</td>\n",
       "      <td>...</td>\n",
       "      <td>...</td>\n",
       "      <td>...</td>\n",
       "      <td>...</td>\n",
       "      <td>...</td>\n",
       "      <td>...</td>\n",
       "      <td>...</td>\n",
       "      <td>...</td>\n",
       "      <td>...</td>\n",
       "      <td>...</td>\n",
       "      <td>...</td>\n",
       "      <td>...</td>\n",
       "      <td>...</td>\n",
       "      <td>...</td>\n",
       "      <td>...</td>\n",
       "    </tr>\n",
       "    <tr>\n",
       "      <th>258557</th>\n",
       "      <td>JG373700</td>\n",
       "      <td>07/01/2023 06:10:00 PM</td>\n",
       "      <td>038XX N Clark ST</td>\n",
       "      <td>1154</td>\n",
       "      <td>DECEPTIVE PRACTICE</td>\n",
       "      <td>FINANCIAL IDENTITY THEFT $300 AND UNDER</td>\n",
       "      <td>Unknown</td>\n",
       "      <td>N</td>\n",
       "      <td>N</td>\n",
       "      <td>1923</td>\n",
       "      <td>44.0</td>\n",
       "      <td>11</td>\n",
       "      <td>1167359.0</td>\n",
       "      <td>1925735.0</td>\n",
       "      <td>41.951773</td>\n",
       "      <td>-87.660184</td>\n",
       "      <td>(41.951772895, -87.660184427)</td>\n",
       "    </tr>\n",
       "    <tr>\n",
       "      <th>258558</th>\n",
       "      <td>JG300737</td>\n",
       "      <td>06/14/2023 12:07:00 PM</td>\n",
       "      <td>087XX S MUSKEGON AVE</td>\n",
       "      <td>141C</td>\n",
       "      <td>WEAPONS VIOLATION</td>\n",
       "      <td>UNLAWFUL USE - OTHER DANGEROUS WEAPON</td>\n",
       "      <td>ALLEY</td>\n",
       "      <td>N</td>\n",
       "      <td>N</td>\n",
       "      <td>423</td>\n",
       "      <td>7.0</td>\n",
       "      <td>15</td>\n",
       "      <td>1196529.0</td>\n",
       "      <td>1847498.0</td>\n",
       "      <td>41.736410</td>\n",
       "      <td>-87.555563</td>\n",
       "      <td>(41.736409533, -87.555562506)</td>\n",
       "    </tr>\n",
       "    <tr>\n",
       "      <th>258559</th>\n",
       "      <td>JG364916</td>\n",
       "      <td>07/31/2023 12:00:00 AM</td>\n",
       "      <td>064XX S RHODES AVE</td>\n",
       "      <td>0497</td>\n",
       "      <td>BATTERY</td>\n",
       "      <td>AGGRAVATED DOMESTIC BATTERY - OTHER DANGEROUS ...</td>\n",
       "      <td>RESIDENCE</td>\n",
       "      <td>N</td>\n",
       "      <td>Y</td>\n",
       "      <td>312</td>\n",
       "      <td>20.0</td>\n",
       "      <td>04B</td>\n",
       "      <td>1181010.0</td>\n",
       "      <td>1862410.0</td>\n",
       "      <td>41.777700</td>\n",
       "      <td>-87.611960</td>\n",
       "      <td>(41.777700447, -87.611960085)</td>\n",
       "    </tr>\n",
       "    <tr>\n",
       "      <th>258560</th>\n",
       "      <td>JG305358</td>\n",
       "      <td>06/18/2023 01:05:00 AM</td>\n",
       "      <td>012XX N STATE PKWY</td>\n",
       "      <td>0496</td>\n",
       "      <td>BATTERY</td>\n",
       "      <td>AGGRAVATED DOMESTIC BATTERY - KNIFE / CUTTING ...</td>\n",
       "      <td>APARTMENT</td>\n",
       "      <td>Y</td>\n",
       "      <td>Y</td>\n",
       "      <td>1824</td>\n",
       "      <td>2.0</td>\n",
       "      <td>04B</td>\n",
       "      <td>1176068.0</td>\n",
       "      <td>1908513.0</td>\n",
       "      <td>41.904323</td>\n",
       "      <td>-87.628691</td>\n",
       "      <td>(41.904322962, -87.628690783)</td>\n",
       "    </tr>\n",
       "    <tr>\n",
       "      <th>258561</th>\n",
       "      <td>JG317689</td>\n",
       "      <td>06/27/2023 05:02:00 AM</td>\n",
       "      <td>030XX N LAKEWOOD AVE</td>\n",
       "      <td>0810</td>\n",
       "      <td>THEFT</td>\n",
       "      <td>OVER $500</td>\n",
       "      <td>STREET</td>\n",
       "      <td>N</td>\n",
       "      <td>N</td>\n",
       "      <td>1933</td>\n",
       "      <td>32.0</td>\n",
       "      <td>06</td>\n",
       "      <td>1167116.0</td>\n",
       "      <td>1920150.0</td>\n",
       "      <td>41.936453</td>\n",
       "      <td>-87.661239</td>\n",
       "      <td>(41.936452633, -87.661238666)</td>\n",
       "    </tr>\n",
       "  </tbody>\n",
       "</table>\n",
       "<p>258562 rows × 17 columns</p>\n",
       "</div>"
      ],
      "text/plain": [
       "           CASE#                    DATE                 BLOCK  IUCR  \\\n",
       "0       JG497095  11/08/2023 08:50:00 PM   025XX N KEDZIE BLVD  0810   \n",
       "1       JG496991  11/08/2023 03:14:00 PM   0000X W CHICAGO AVE  0560   \n",
       "2       JG497145  11/08/2023 10:55:00 PM       019XX W 47TH ST  051A   \n",
       "3       JH179051  03/07/2024 02:15:00 PM      070XX S STATE ST  0820   \n",
       "4       JH178785  03/07/2024 04:53:00 AM  077XX S CARPENTER ST  0810   \n",
       "...          ...                     ...                   ...   ...   \n",
       "258557  JG373700  07/01/2023 06:10:00 PM      038XX N Clark ST  1154   \n",
       "258558  JG300737  06/14/2023 12:07:00 PM  087XX S MUSKEGON AVE  141C   \n",
       "258559  JG364916  07/31/2023 12:00:00 AM    064XX S RHODES AVE  0497   \n",
       "258560  JG305358  06/18/2023 01:05:00 AM    012XX N STATE PKWY  0496   \n",
       "258561  JG317689  06/27/2023 05:02:00 AM  030XX N LAKEWOOD AVE  0810   \n",
       "\n",
       "        PRIMARY DESCRIPTION  \\\n",
       "0                     THEFT   \n",
       "1                   ASSAULT   \n",
       "2                   ASSAULT   \n",
       "3                     THEFT   \n",
       "4                     THEFT   \n",
       "...                     ...   \n",
       "258557   DECEPTIVE PRACTICE   \n",
       "258558    WEAPONS VIOLATION   \n",
       "258559              BATTERY   \n",
       "258560              BATTERY   \n",
       "258561                THEFT   \n",
       "\n",
       "                                    SECONDARY DESCRIPTION  \\\n",
       "0                                               OVER $500   \n",
       "1                                                  SIMPLE   \n",
       "2                                    AGGRAVATED - HANDGUN   \n",
       "3                                          $500 AND UNDER   \n",
       "4                                               OVER $500   \n",
       "...                                                   ...   \n",
       "258557            FINANCIAL IDENTITY THEFT $300 AND UNDER   \n",
       "258558              UNLAWFUL USE - OTHER DANGEROUS WEAPON   \n",
       "258559  AGGRAVATED DOMESTIC BATTERY - OTHER DANGEROUS ...   \n",
       "258560  AGGRAVATED DOMESTIC BATTERY - KNIFE / CUTTING ...   \n",
       "258561                                          OVER $500   \n",
       "\n",
       "       LOCATION DESCRIPTION ARREST DOMESTIC  BEAT  WARD FBI CD  X COORDINATE  \\\n",
       "0                    STREET      N        N  1414  35.0     06     1154609.0   \n",
       "1                    STREET      N        N  1832  42.0    08A     1176106.0   \n",
       "2                  SIDEWALK      N        N   931  15.0    04A     1164331.0   \n",
       "3        GROCERY FOOD STORE      Y        N   322   6.0     06     1177506.0   \n",
       "4                    STREET      N        N   612  17.0     06     1170656.0   \n",
       "...                     ...    ...      ...   ...   ...    ...           ...   \n",
       "258557              Unknown      N        N  1923  44.0     11     1167359.0   \n",
       "258558                ALLEY      N        N   423   7.0     15     1196529.0   \n",
       "258559            RESIDENCE      N        Y   312  20.0    04B     1181010.0   \n",
       "258560            APARTMENT      Y        Y  1824   2.0    04B     1176068.0   \n",
       "258561               STREET      N        N  1933  32.0     06     1167116.0   \n",
       "\n",
       "        Y COORDINATE   LATITUDE  LONGITUDE                       LOCATION  \n",
       "0          1916759.0  41.927407 -87.707294   (41.927407329, -87.70729439)  \n",
       "1          1905725.0  41.896672 -87.628635  (41.896671699, -87.628635323)  \n",
       "2          1873509.0  41.808525 -87.672793  (41.808525157, -87.672792896)  \n",
       "3          1858207.0  41.766247 -87.624933  (41.766246905, -87.624932618)  \n",
       "4          1853451.0  41.753348 -87.650179  (41.753347902, -87.650178718)  \n",
       "...              ...        ...        ...                            ...  \n",
       "258557     1925735.0  41.951773 -87.660184  (41.951772895, -87.660184427)  \n",
       "258558     1847498.0  41.736410 -87.555563  (41.736409533, -87.555562506)  \n",
       "258559     1862410.0  41.777700 -87.611960  (41.777700447, -87.611960085)  \n",
       "258560     1908513.0  41.904323 -87.628691  (41.904322962, -87.628690783)  \n",
       "258561     1920150.0  41.936453 -87.661239  (41.936452633, -87.661238666)  \n",
       "\n",
       "[258562 rows x 17 columns]"
      ]
     },
     "execution_count": 19,
     "metadata": {},
     "output_type": "execute_result"
    }
   ],
   "source": [
    "df.rename(columns = {'DATE  OF OCCURRENCE':'DATE'}, inplace = True)\n",
    "df"
   ]
  },
  {
   "cell_type": "code",
   "execution_count": 20,
   "id": "8bdf5103-6671-4218-a043-1534a1fd9f82",
   "metadata": {},
   "outputs": [],
   "source": [
    "df['DATE']= pd.to_datetime(df['DATE'], errors='coerce')"
   ]
  },
  {
   "cell_type": "code",
   "execution_count": 21,
   "id": "4612afc6-c2d1-4d02-8b40-ea9668c02c2a",
   "metadata": {},
   "outputs": [],
   "source": [
    "df['year']= df['DATE'].dt.year\n",
    "df['month'] = df['DATE'].dt.month\n",
    "df['day_of_week'] = df['DATE'].dt.day_name()"
   ]
  },
  {
   "cell_type": "code",
   "execution_count": 22,
   "id": "ed3f0b9f-27a2-4943-831d-958596a3f656",
   "metadata": {},
   "outputs": [
    {
     "data": {
      "text/plain": [
       "Index(['CASE#', 'DATE', 'BLOCK', ' IUCR', ' PRIMARY DESCRIPTION',\n",
       "       ' SECONDARY DESCRIPTION', 'LOCATION DESCRIPTION', 'ARREST', 'DOMESTIC',\n",
       "       'BEAT', 'WARD', 'FBI CD', 'X COORDINATE', 'Y COORDINATE', 'LATITUDE',\n",
       "       'LONGITUDE', 'LOCATION', 'year', 'month', 'day_of_week'],\n",
       "      dtype='object')"
      ]
     },
     "execution_count": 22,
     "metadata": {},
     "output_type": "execute_result"
    }
   ],
   "source": [
    "df.columns"
   ]
  },
  {
   "cell_type": "code",
   "execution_count": 23,
   "id": "8feb82f2-0c42-467c-9134-7bc96a524ac0",
   "metadata": {},
   "outputs": [],
   "source": [
    "df.rename(columns={' PRIMARY DESCRIPTION': 'PRIMARY DESCRIPTION', ' IUCR': 'IUCR', ' SECONDARY DESCRIPTION':'SECONDARY DESCRIPTION'}, inplace=True)"
   ]
  },
  {
   "cell_type": "code",
   "execution_count": 24,
   "id": "c36e9c3c-54ef-4e89-92bf-c78ab38f744f",
   "metadata": {},
   "outputs": [
    {
     "data": {
      "image/png": "[encoded data removed]",
      "text/plain": [
       "<Figure size 640x480 with 1 Axes>"
      ]
     },
     "metadata": {},
     "output_type": "display_data"
    },
    {
     "data": {
      "image/png": "[encoded data removed]",
      "text/plain": [
       "<Figure size 640x480 with 2 Axes>"
      ]
     },
     "metadata": {},
     "output_type": "display_data"
    }
   ],
   "source": [
    "#EDA\n",
    "\n",
    "import matplotlib.pyplot as plt\n",
    "import seaborn as sns\n",
    "\n",
    "sns.countplot(data=df, x='PRIMARY DESCRIPTION')\n",
    "plt.title('Distribution of Crime Types')\n",
    "plt.xlabel('Crime Type')\n",
    "plt.ylabel('Count')\n",
    "plt.xticks(rotation=90)\n",
    "plt.show()\n",
    "\n",
    "corr=df.corr()\n",
    "sns.heatmap(corr, annot=True, cmap='coolwarm')\n",
    "plt.show()"
   ]
  },
  {
   "cell_type": "code",
   "execution_count": 25,
   "id": "376de5ab-3d39-487a-9cae-15f6afea40a6",
   "metadata": {},
   "outputs": [
    {
     "data": {
      "text/html": [
       "<div>\n",
       "<style scoped>\n",
       "    .dataframe tbody tr th:only-of-type {\n",
       "        vertical-align: middle;\n",
       "    }\n",
       "\n",
       "    .dataframe tbody tr th {\n",
       "        vertical-align: top;\n",
       "    }\n",
       "\n",
       "    .dataframe thead th {\n",
       "        text-align: right;\n",
       "    }\n",
       "</style>\n",
       "<table border=\"1\" class=\"dataframe\">\n",
       "  <thead>\n",
       "    <tr style=\"text-align: right;\">\n",
       "      <th></th>\n",
       "      <th>CASE#</th>\n",
       "      <th>DATE</th>\n",
       "      <th>BLOCK</th>\n",
       "      <th>IUCR</th>\n",
       "      <th>PRIMARY DESCRIPTION</th>\n",
       "      <th>SECONDARY DESCRIPTION</th>\n",
       "      <th>LOCATION DESCRIPTION</th>\n",
       "      <th>ARREST</th>\n",
       "      <th>DOMESTIC</th>\n",
       "      <th>BEAT</th>\n",
       "      <th>WARD</th>\n",
       "      <th>FBI CD</th>\n",
       "      <th>X COORDINATE</th>\n",
       "      <th>Y COORDINATE</th>\n",
       "      <th>LATITUDE</th>\n",
       "      <th>LONGITUDE</th>\n",
       "      <th>LOCATION</th>\n",
       "      <th>year</th>\n",
       "      <th>month</th>\n",
       "      <th>day_of_week</th>\n",
       "    </tr>\n",
       "  </thead>\n",
       "  <tbody>\n",
       "    <tr>\n",
       "      <th>0</th>\n",
       "      <td>JG497095</td>\n",
       "      <td>2023-11-08 20:50:00</td>\n",
       "      <td>025XX N KEDZIE BLVD</td>\n",
       "      <td>0810</td>\n",
       "      <td>THEFT</td>\n",
       "      <td>OVER $500</td>\n",
       "      <td>STREET</td>\n",
       "      <td>N</td>\n",
       "      <td>N</td>\n",
       "      <td>1414</td>\n",
       "      <td>35.0</td>\n",
       "      <td>06</td>\n",
       "      <td>1154609.0</td>\n",
       "      <td>1916759.0</td>\n",
       "      <td>41.927407</td>\n",
       "      <td>-87.707294</td>\n",
       "      <td>(41.927407329, -87.70729439)</td>\n",
       "      <td>2023</td>\n",
       "      <td>11</td>\n",
       "      <td>Wednesday</td>\n",
       "    </tr>\n",
       "    <tr>\n",
       "      <th>1</th>\n",
       "      <td>JG496991</td>\n",
       "      <td>2023-11-08 15:14:00</td>\n",
       "      <td>0000X W CHICAGO AVE</td>\n",
       "      <td>0560</td>\n",
       "      <td>ASSAULT</td>\n",
       "      <td>SIMPLE</td>\n",
       "      <td>STREET</td>\n",
       "      <td>N</td>\n",
       "      <td>N</td>\n",
       "      <td>1832</td>\n",
       "      <td>42.0</td>\n",
       "      <td>08A</td>\n",
       "      <td>1176106.0</td>\n",
       "      <td>1905725.0</td>\n",
       "      <td>41.896672</td>\n",
       "      <td>-87.628635</td>\n",
       "      <td>(41.896671699, -87.628635323)</td>\n",
       "      <td>2023</td>\n",
       "      <td>11</td>\n",
       "      <td>Wednesday</td>\n",
       "    </tr>\n",
       "    <tr>\n",
       "      <th>2</th>\n",
       "      <td>JG497145</td>\n",
       "      <td>2023-11-08 22:55:00</td>\n",
       "      <td>019XX W 47TH ST</td>\n",
       "      <td>051A</td>\n",
       "      <td>ASSAULT</td>\n",
       "      <td>AGGRAVATED - HANDGUN</td>\n",
       "      <td>SIDEWALK</td>\n",
       "      <td>N</td>\n",
       "      <td>N</td>\n",
       "      <td>931</td>\n",
       "      <td>15.0</td>\n",
       "      <td>04A</td>\n",
       "      <td>1164331.0</td>\n",
       "      <td>1873509.0</td>\n",
       "      <td>41.808525</td>\n",
       "      <td>-87.672793</td>\n",
       "      <td>(41.808525157, -87.672792896)</td>\n",
       "      <td>2023</td>\n",
       "      <td>11</td>\n",
       "      <td>Wednesday</td>\n",
       "    </tr>\n",
       "    <tr>\n",
       "      <th>3</th>\n",
       "      <td>JH179051</td>\n",
       "      <td>2024-03-07 14:15:00</td>\n",
       "      <td>070XX S STATE ST</td>\n",
       "      <td>0820</td>\n",
       "      <td>THEFT</td>\n",
       "      <td>$500 AND UNDER</td>\n",
       "      <td>GROCERY FOOD STORE</td>\n",
       "      <td>Y</td>\n",
       "      <td>N</td>\n",
       "      <td>322</td>\n",
       "      <td>6.0</td>\n",
       "      <td>06</td>\n",
       "      <td>1177506.0</td>\n",
       "      <td>1858207.0</td>\n",
       "      <td>41.766247</td>\n",
       "      <td>-87.624933</td>\n",
       "      <td>(41.766246905, -87.624932618)</td>\n",
       "      <td>2024</td>\n",
       "      <td>3</td>\n",
       "      <td>Thursday</td>\n",
       "    </tr>\n",
       "    <tr>\n",
       "      <th>4</th>\n",
       "      <td>JH178785</td>\n",
       "      <td>2024-03-07 04:53:00</td>\n",
       "      <td>077XX S CARPENTER ST</td>\n",
       "      <td>0810</td>\n",
       "      <td>THEFT</td>\n",
       "      <td>OVER $500</td>\n",
       "      <td>STREET</td>\n",
       "      <td>N</td>\n",
       "      <td>N</td>\n",
       "      <td>612</td>\n",
       "      <td>17.0</td>\n",
       "      <td>06</td>\n",
       "      <td>1170656.0</td>\n",
       "      <td>1853451.0</td>\n",
       "      <td>41.753348</td>\n",
       "      <td>-87.650179</td>\n",
       "      <td>(41.753347902, -87.650178718)</td>\n",
       "      <td>2024</td>\n",
       "      <td>3</td>\n",
       "      <td>Thursday</td>\n",
       "    </tr>\n",
       "  </tbody>\n",
       "</table>\n",
       "</div>"
      ],
      "text/plain": [
       "      CASE#                DATE                 BLOCK  IUCR  \\\n",
       "0  JG497095 2023-11-08 20:50:00   025XX N KEDZIE BLVD  0810   \n",
       "1  JG496991 2023-11-08 15:14:00   0000X W CHICAGO AVE  0560   \n",
       "2  JG497145 2023-11-08 22:55:00       019XX W 47TH ST  051A   \n",
       "3  JH179051 2024-03-07 14:15:00      070XX S STATE ST  0820   \n",
       "4  JH178785 2024-03-07 04:53:00  077XX S CARPENTER ST  0810   \n",
       "\n",
       "  PRIMARY DESCRIPTION SECONDARY DESCRIPTION LOCATION DESCRIPTION ARREST  \\\n",
       "0               THEFT             OVER $500               STREET      N   \n",
       "1             ASSAULT                SIMPLE               STREET      N   \n",
       "2             ASSAULT  AGGRAVATED - HANDGUN             SIDEWALK      N   \n",
       "3               THEFT        $500 AND UNDER   GROCERY FOOD STORE      Y   \n",
       "4               THEFT             OVER $500               STREET      N   \n",
       "\n",
       "  DOMESTIC  BEAT  WARD FBI CD  X COORDINATE  Y COORDINATE   LATITUDE  \\\n",
       "0        N  1414  35.0     06     1154609.0     1916759.0  41.927407   \n",
       "1        N  1832  42.0    08A     1176106.0     1905725.0  41.896672   \n",
       "2        N   931  15.0    04A     1164331.0     1873509.0  41.808525   \n",
       "3        N   322   6.0     06     1177506.0     1858207.0  41.766247   \n",
       "4        N   612  17.0     06     1170656.0     1853451.0  41.753348   \n",
       "\n",
       "   LONGITUDE                       LOCATION  year  month day_of_week  \n",
       "0 -87.707294   (41.927407329, -87.70729439)  2023     11   Wednesday  \n",
       "1 -87.628635  (41.896671699, -87.628635323)  2023     11   Wednesday  \n",
       "2 -87.672793  (41.808525157, -87.672792896)  2023     11   Wednesday  \n",
       "3 -87.624933  (41.766246905, -87.624932618)  2024      3    Thursday  \n",
       "4 -87.650179  (41.753347902, -87.650178718)  2024      3    Thursday  "
      ]
     },
     "execution_count": 25,
     "metadata": {},
     "output_type": "execute_result"
    }
   ],
   "source": [
    "df.head()"
   ]
  },
  {
   "cell_type": "code",
   "execution_count": 26,
   "id": "d2afbdf5-6af3-4b6f-a550-a5933428c2a9",
   "metadata": {},
   "outputs": [],
   "source": [
    "#count crimes per location\n",
    "df['crime_count']= df.groupby(['LATITUDE', 'LONGITUDE'])['CASE#'].transform('count')"
   ]
  },
  {
   "cell_type": "code",
   "execution_count": 27,
   "id": "9011756e-47b0-4934-a2dc-f0c9f532869a",
   "metadata": {},
   "outputs": [],
   "source": [
    "df['daily_crime_count'] = df.groupby(['DATE'])['CASE#'].transform('count') "
   ]
  },
  {
   "cell_type": "code",
   "execution_count": 28,
   "id": "12caf224-66f4-4ff8-bee9-5e9d50eab965",
   "metadata": {},
   "outputs": [],
   "source": [
    "df['monthly_crime_count'] = df.groupby(['year', 'month'])['CASE#'].transform('count')"
   ]
  },
  {
   "cell_type": "code",
   "execution_count": 29,
   "id": "d2fa7f7b-99d1-4e04-beb9-a90943562c92",
   "metadata": {},
   "outputs": [],
   "source": [
    "df.rename(columns = {'crime_count':'crime_count_location'}, inplace=True)"
   ]
  },
  {
   "cell_type": "code",
   "execution_count": 30,
   "id": "17aa1e74-937e-4468-8854-3bbbd5c534cb",
   "metadata": {},
   "outputs": [
    {
     "data": {
      "text/plain": [
       "Index(['CASE#', 'DATE', 'BLOCK', 'IUCR', 'PRIMARY DESCRIPTION',\n",
       "       'SECONDARY DESCRIPTION', 'LOCATION DESCRIPTION', 'ARREST', 'DOMESTIC',\n",
       "       'BEAT', 'WARD', 'FBI CD', 'X COORDINATE', 'Y COORDINATE', 'LATITUDE',\n",
       "       'LONGITUDE', 'LOCATION', 'year', 'month', 'day_of_week',\n",
       "       'crime_count_location', 'daily_crime_count', 'monthly_crime_count'],\n",
       "      dtype='object')"
      ]
     },
     "execution_count": 30,
     "metadata": {},
     "output_type": "execute_result"
    }
   ],
   "source": [
    "df.columns"
   ]
  },
  {
   "cell_type": "code",
   "execution_count": 31,
   "id": "611fff97-1089-4ae1-bf56-d7f7e06a9e49",
   "metadata": {},
   "outputs": [],
   "source": [
    "# Define features and target variable\n",
    "X = df[['PRIMARY DESCRIPTION', 'ARREST', 'DOMESTIC', 'LATITUDE', 'LONGITUDE', \n",
    "        'year', 'month', 'day_of_week', 'crime_count_location', \n",
    "        'daily_crime_count', 'monthly_crime_count']]\n",
    "y = df['crime_count_location']  # Use a meaningful target variable, like crime count or similar.\n",
    "\n",
    "# Define categorical and numeric features\n",
    "categorical_features = ['PRIMARY DESCRIPTION', 'ARREST', 'DOMESTIC', 'day_of_week']\n",
    "numeric_features = ['LATITUDE', 'LONGITUDE', 'year', 'month', \n",
    "                    'crime_count_location', 'daily_crime_count', 'monthly_crime_count']\n"
   ]
  },
  {
   "cell_type": "code",
   "execution_count": 32,
   "id": "e2595a2e-9881-4746-8c1c-fdb17d248e2a",
   "metadata": {},
   "outputs": [],
   "source": [
    "# Preprocess data: OneHotEncode categorical features, and passthrough numeric features\n",
    "from sklearn.preprocessing import OneHotEncoder\n",
    "from sklearn.compose import ColumnTransformer\n",
    "\n",
    "preprocessor = ColumnTransformer(\n",
    "    transformers=[\n",
    "        ('cat', OneHotEncoder(sparse_output=False, handle_unknown='ignore'), categorical_features),  # Ignore unknown categories\n",
    "        ('num', 'passthrough', numeric_features)  # Keep numeric features as is\n",
    "    ])\n"
   ]
  },
  {
   "cell_type": "code",
   "execution_count": 33,
   "id": "28ae38fa-96f5-48d4-81b0-aaac61ae4c22",
   "metadata": {},
   "outputs": [],
   "source": [
    "from sklearn.pipeline import Pipeline\n",
    "from sklearn.ensemble import RandomForestRegressor\n",
    "\n",
    "# Create the pipeline\n",
    "pipeline = Pipeline(steps=[('preprocessor', preprocessor),\n",
    "                           ('model', RandomForestRegressor(random_state=42))])"
   ]
  },
  {
   "cell_type": "code",
   "execution_count": 34,
   "id": "ff09b3fe-6901-4f09-a4eb-c2d8d0095026",
   "metadata": {},
   "outputs": [
    {
     "name": "stdout",
     "output_type": "stream",
     "text": [
      "Mean Squared Error: 0.0\n",
      "R-squared: 1.0\n"
     ]
    }
   ],
   "source": [
    "import pandas as pd\n",
    "from sklearn.model_selection import train_test_split\n",
    "from sklearn.metrics import mean_squared_error, r2_score\n",
    "\n",
    "# Split the data into training and test sets\n",
    "X_train, X_test, y_train, y_test = train_test_split(X, y, test_size=0.2, random_state=42)\n",
    "\n",
    "# Train the model\n",
    "pipeline.fit(X_train, y_train)\n",
    "\n",
    "# Make predictions on the test set\n",
    "y_pred = pipeline.predict(X_test)\n",
    "\n",
    "# Evaluate the model\n",
    "mse = mean_squared_error(y_test, y_pred)\n",
    "r2 = r2_score(y_test, y_pred)\n",
    "\n",
    "print('Mean Squared Error:', mse)\n",
    "print('R-squared:', r2)"
   ]
  },
  {
   "cell_type": "code",
   "execution_count": 35,
   "id": "c0252695-d02c-4a47-9760-09c46f87beed",
   "metadata": {},
   "outputs": [
    {
     "data": {
      "image/png": "[encoded data removed]",
      "text/plain": [
       "<Figure size 1000x600 with 1 Axes>"
      ]
     },
     "metadata": {},
     "output_type": "display_data"
    }
   ],
   "source": [
    "import matplotlib.pyplot as plt\n",
    "import seaborn as sns\n",
    "\n",
    "# Calculate residuals\n",
    "residuals = y_test - y_pred\n",
    "\n",
    "# Plot residuals vs. predicted values\n",
    "plt.figure(figsize=(10, 6))\n",
    "sns.scatterplot(x=y_pred, y=residuals, alpha=0.5)\n",
    "plt.axhline(y=0, color='r', linestyle='--')\n",
    "plt.title('Residual Plot')\n",
    "plt.xlabel('Predicted Values')\n",
    "plt.ylabel('Residuals')\n",
    "plt.show()\n"
   ]
  },
  {
   "cell_type": "markdown",
   "id": "4724e732-1084-40a2-96c4-0e046b5acba4",
   "metadata": {},
   "source": [
    "the results indicate that the model has perfectly predicted the test data but the model is overfitting or the target variable crime_count_location might not be varying much."
   ]
  },
  {
   "cell_type": "code",
   "execution_count": 36,
   "id": "1d61699f-13e5-4112-a13c-6fbd26ea99b4",
   "metadata": {},
   "outputs": [
    {
     "data": {
      "text/html": [
       "<div>\n",
       "<style scoped>\n",
       "    .dataframe tbody tr th:only-of-type {\n",
       "        vertical-align: middle;\n",
       "    }\n",
       "\n",
       "    .dataframe tbody tr th {\n",
       "        vertical-align: top;\n",
       "    }\n",
       "\n",
       "    .dataframe thead th {\n",
       "        text-align: right;\n",
       "    }\n",
       "</style>\n",
       "<table border=\"1\" class=\"dataframe\">\n",
       "  <thead>\n",
       "    <tr style=\"text-align: right;\">\n",
       "      <th></th>\n",
       "      <th>CASE#</th>\n",
       "      <th>DATE</th>\n",
       "      <th>BLOCK</th>\n",
       "      <th>IUCR</th>\n",
       "      <th>PRIMARY DESCRIPTION</th>\n",
       "      <th>SECONDARY DESCRIPTION</th>\n",
       "      <th>LOCATION DESCRIPTION</th>\n",
       "      <th>ARREST</th>\n",
       "      <th>DOMESTIC</th>\n",
       "      <th>BEAT</th>\n",
       "      <th>...</th>\n",
       "      <th>Y COORDINATE</th>\n",
       "      <th>LATITUDE</th>\n",
       "      <th>LONGITUDE</th>\n",
       "      <th>LOCATION</th>\n",
       "      <th>year</th>\n",
       "      <th>month</th>\n",
       "      <th>day_of_week</th>\n",
       "      <th>crime_count_location</th>\n",
       "      <th>daily_crime_count</th>\n",
       "      <th>monthly_crime_count</th>\n",
       "    </tr>\n",
       "  </thead>\n",
       "  <tbody>\n",
       "    <tr>\n",
       "      <th>0</th>\n",
       "      <td>JG497095</td>\n",
       "      <td>2023-11-08 20:50:00</td>\n",
       "      <td>025XX N KEDZIE BLVD</td>\n",
       "      <td>0810</td>\n",
       "      <td>THEFT</td>\n",
       "      <td>OVER $500</td>\n",
       "      <td>STREET</td>\n",
       "      <td>N</td>\n",
       "      <td>N</td>\n",
       "      <td>1414</td>\n",
       "      <td>...</td>\n",
       "      <td>1916759.0</td>\n",
       "      <td>41.927407</td>\n",
       "      <td>-87.707294</td>\n",
       "      <td>(41.927407329, -87.70729439)</td>\n",
       "      <td>2023</td>\n",
       "      <td>11</td>\n",
       "      <td>Wednesday</td>\n",
       "      <td>3</td>\n",
       "      <td>4</td>\n",
       "      <td>21281</td>\n",
       "    </tr>\n",
       "    <tr>\n",
       "      <th>1</th>\n",
       "      <td>JG496991</td>\n",
       "      <td>2023-11-08 15:14:00</td>\n",
       "      <td>0000X W CHICAGO AVE</td>\n",
       "      <td>0560</td>\n",
       "      <td>ASSAULT</td>\n",
       "      <td>SIMPLE</td>\n",
       "      <td>STREET</td>\n",
       "      <td>N</td>\n",
       "      <td>N</td>\n",
       "      <td>1832</td>\n",
       "      <td>...</td>\n",
       "      <td>1905725.0</td>\n",
       "      <td>41.896672</td>\n",
       "      <td>-87.628635</td>\n",
       "      <td>(41.896671699, -87.628635323)</td>\n",
       "      <td>2023</td>\n",
       "      <td>11</td>\n",
       "      <td>Wednesday</td>\n",
       "      <td>9</td>\n",
       "      <td>1</td>\n",
       "      <td>21281</td>\n",
       "    </tr>\n",
       "    <tr>\n",
       "      <th>2</th>\n",
       "      <td>JG497145</td>\n",
       "      <td>2023-11-08 22:55:00</td>\n",
       "      <td>019XX W 47TH ST</td>\n",
       "      <td>051A</td>\n",
       "      <td>ASSAULT</td>\n",
       "      <td>AGGRAVATED - HANDGUN</td>\n",
       "      <td>SIDEWALK</td>\n",
       "      <td>N</td>\n",
       "      <td>N</td>\n",
       "      <td>931</td>\n",
       "      <td>...</td>\n",
       "      <td>1873509.0</td>\n",
       "      <td>41.808525</td>\n",
       "      <td>-87.672793</td>\n",
       "      <td>(41.808525157, -87.672792896)</td>\n",
       "      <td>2023</td>\n",
       "      <td>11</td>\n",
       "      <td>Wednesday</td>\n",
       "      <td>1</td>\n",
       "      <td>1</td>\n",
       "      <td>21281</td>\n",
       "    </tr>\n",
       "    <tr>\n",
       "      <th>3</th>\n",
       "      <td>JH179051</td>\n",
       "      <td>2024-03-07 14:15:00</td>\n",
       "      <td>070XX S STATE ST</td>\n",
       "      <td>0820</td>\n",
       "      <td>THEFT</td>\n",
       "      <td>$500 AND UNDER</td>\n",
       "      <td>GROCERY FOOD STORE</td>\n",
       "      <td>Y</td>\n",
       "      <td>N</td>\n",
       "      <td>322</td>\n",
       "      <td>...</td>\n",
       "      <td>1858207.0</td>\n",
       "      <td>41.766247</td>\n",
       "      <td>-87.624933</td>\n",
       "      <td>(41.766246905, -87.624932618)</td>\n",
       "      <td>2024</td>\n",
       "      <td>3</td>\n",
       "      <td>Thursday</td>\n",
       "      <td>9</td>\n",
       "      <td>2</td>\n",
       "      <td>20521</td>\n",
       "    </tr>\n",
       "    <tr>\n",
       "      <th>4</th>\n",
       "      <td>JH178785</td>\n",
       "      <td>2024-03-07 04:53:00</td>\n",
       "      <td>077XX S CARPENTER ST</td>\n",
       "      <td>0810</td>\n",
       "      <td>THEFT</td>\n",
       "      <td>OVER $500</td>\n",
       "      <td>STREET</td>\n",
       "      <td>N</td>\n",
       "      <td>N</td>\n",
       "      <td>612</td>\n",
       "      <td>...</td>\n",
       "      <td>1853451.0</td>\n",
       "      <td>41.753348</td>\n",
       "      <td>-87.650179</td>\n",
       "      <td>(41.753347902, -87.650178718)</td>\n",
       "      <td>2024</td>\n",
       "      <td>3</td>\n",
       "      <td>Thursday</td>\n",
       "      <td>3</td>\n",
       "      <td>1</td>\n",
       "      <td>20521</td>\n",
       "    </tr>\n",
       "  </tbody>\n",
       "</table>\n",
       "<p>5 rows × 23 columns</p>\n",
       "</div>"
      ],
      "text/plain": [
       "      CASE#                DATE                 BLOCK  IUCR  \\\n",
       "0  JG497095 2023-11-08 20:50:00   025XX N KEDZIE BLVD  0810   \n",
       "1  JG496991 2023-11-08 15:14:00   0000X W CHICAGO AVE  0560   \n",
       "2  JG497145 2023-11-08 22:55:00       019XX W 47TH ST  051A   \n",
       "3  JH179051 2024-03-07 14:15:00      070XX S STATE ST  0820   \n",
       "4  JH178785 2024-03-07 04:53:00  077XX S CARPENTER ST  0810   \n",
       "\n",
       "  PRIMARY DESCRIPTION SECONDARY DESCRIPTION LOCATION DESCRIPTION ARREST  \\\n",
       "0               THEFT             OVER $500               STREET      N   \n",
       "1             ASSAULT                SIMPLE               STREET      N   \n",
       "2             ASSAULT  AGGRAVATED - HANDGUN             SIDEWALK      N   \n",
       "3               THEFT        $500 AND UNDER   GROCERY FOOD STORE      Y   \n",
       "4               THEFT             OVER $500               STREET      N   \n",
       "\n",
       "  DOMESTIC  BEAT  ...  Y COORDINATE   LATITUDE  LONGITUDE  \\\n",
       "0        N  1414  ...     1916759.0  41.927407 -87.707294   \n",
       "1        N  1832  ...     1905725.0  41.896672 -87.628635   \n",
       "2        N   931  ...     1873509.0  41.808525 -87.672793   \n",
       "3        N   322  ...     1858207.0  41.766247 -87.624933   \n",
       "4        N   612  ...     1853451.0  41.753348 -87.650179   \n",
       "\n",
       "                        LOCATION  year  month day_of_week  \\\n",
       "0   (41.927407329, -87.70729439)  2023     11   Wednesday   \n",
       "1  (41.896671699, -87.628635323)  2023     11   Wednesday   \n",
       "2  (41.808525157, -87.672792896)  2023     11   Wednesday   \n",
       "3  (41.766246905, -87.624932618)  2024      3    Thursday   \n",
       "4  (41.753347902, -87.650178718)  2024      3    Thursday   \n",
       "\n",
       "   crime_count_location  daily_crime_count monthly_crime_count  \n",
       "0                     3                  4               21281  \n",
       "1                     9                  1               21281  \n",
       "2                     1                  1               21281  \n",
       "3                     9                  2               20521  \n",
       "4                     3                  1               20521  \n",
       "\n",
       "[5 rows x 23 columns]"
      ]
     },
     "execution_count": 36,
     "metadata": {},
     "output_type": "execute_result"
    }
   ],
   "source": [
    "df.head()"
   ]
  },
  {
   "cell_type": "code",
   "execution_count": 37,
   "id": "c026ec26-8810-418b-814f-4130d7afc7bc",
   "metadata": {},
   "outputs": [
    {
     "name": "stdout",
     "output_type": "stream",
     "text": [
      "count    258562.000000\n",
      "mean         12.088582\n",
      "std          32.726008\n",
      "min           1.000000\n",
      "25%           1.000000\n",
      "50%           3.000000\n",
      "75%           8.000000\n",
      "max         434.000000\n",
      "Name: crime_count_location, dtype: float64\n",
      "1     85357\n",
      "2     42070\n",
      "3     24132\n",
      "4     15336\n",
      "5     11105\n",
      "      ...  \n",
      "77       77\n",
      "71       71\n",
      "68       68\n",
      "64       64\n",
      "61       61\n",
      "Name: crime_count_location, Length: 119, dtype: int64\n"
     ]
    }
   ],
   "source": [
    "print(df['crime_count_location'].describe())\n",
    "print(df['crime_count_location'].value_counts())"
   ]
  },
  {
   "cell_type": "markdown",
   "id": "1123f650-a93f-4052-849c-7a47b5b4a140",
   "metadata": {},
   "source": [
    "here the data has large concentration of low values which the target variable is highly imbalanced(many low values and fewer high values), in order to overcome this we can stratify the training and testing data."
   ]
  },
  {
   "cell_type": "code",
   "execution_count": 38,
   "id": "48626fdd-4001-4a39-9115-ddcd262a5b60",
   "metadata": {},
   "outputs": [],
   "source": [
    "# Define correct numerical and categorical columns\n",
    "numerical_features = ['LATITUDE', 'LONGITUDE', 'year', 'month']\n",
    "categorical_features = ['PRIMARY DESCRIPTION', 'ARREST', 'DOMESTIC', 'day_of_week']\n"
   ]
  },
  {
   "cell_type": "code",
   "execution_count": 39,
   "id": "529123ff-2904-4764-ba83-8c243ac5fdee",
   "metadata": {},
   "outputs": [],
   "source": [
    "# Create transformers\n",
    "\n",
    "from sklearn.preprocessing import StandardScaler\n",
    "preprocessor = ColumnTransformer(\n",
    "    transformers=[\n",
    "        ('num', StandardScaler(), numerical_features),\n",
    "        ('cat', OneHotEncoder(handle_unknown='ignore'), categorical_features)\n",
    "    ])"
   ]
  },
  {
   "cell_type": "code",
   "execution_count": 40,
   "id": "f4def2f2-c99d-453e-8d9d-d0b84faa125c",
   "metadata": {},
   "outputs": [],
   "source": [
    "X_train, X_test, y_train, y_test = train_test_split(X,y, test_size=0.2, random_state=42, stratify=y)"
   ]
  },
  {
   "cell_type": "code",
   "execution_count": 41,
   "id": "5fa8fcc6-8168-4427-a5af-26a512c8195d",
   "metadata": {},
   "outputs": [
    {
     "name": "stdout",
     "output_type": "stream",
     "text": [
      "Mean Absolute Error: 18.25146481542359\n",
      "Median Absolute Error: 18.25146481542359\n"
     ]
    }
   ],
   "source": [
    "from sklearn.metrics import mean_absolute_error, median_absolute_error\n",
    "\n",
    "mae = mean_absolute_error(y_test, y_pred)\n",
    "medae = mean_absolute_error(y_test, y_pred)\n",
    "\n",
    "print('Mean Absolute Error:', mae)\n",
    "print('Median Absolute Error:', medae)"
   ]
  },
  {
   "cell_type": "code",
   "execution_count": 42,
   "id": "76fb639a-31f4-40a5-a2f2-250a46e53ebd",
   "metadata": {},
   "outputs": [
    {
     "data": {
      "image/png": "[encoded data removed]",
      "text/plain": [
       "<Figure size 640x480 with 1 Axes>"
      ]
     },
     "metadata": {},
     "output_type": "display_data"
    }
   ],
   "source": [
    "import matplotlib.pyplot as plt\n",
    "\n",
    "# Compute errors\n",
    "errors = y_test - y_pred\n",
    "abs_errors = abs(errors)\n",
    "\n",
    "# Plot distribution of absolute errors\n",
    "plt.hist(abs_errors, bins=50, edgecolor='k', alpha=0.7)\n",
    "plt.title('Distribution of Absolute Errors')\n",
    "plt.xlabel('Absolute Error')\n",
    "plt.ylabel('Frequency')\n",
    "plt.show()\n"
   ]
  },
  {
   "cell_type": "code",
   "execution_count": 43,
   "id": "c2fb6735-89a3-4c26-acd7-b4618809856d",
   "metadata": {},
   "outputs": [
    {
     "name": "stdout",
     "output_type": "stream",
     "text": [
      "Cross-validated MSE: -0.0\n"
     ]
    }
   ],
   "source": [
    "#Instead of simple train-test split, cross-validation will provide a better estimate of model performance\n",
    "from sklearn.model_selection import cross_val_score\n",
    "\n",
    "scores = cross_val_score(pipeline, X, y, cv=5, scoring='neg_mean_squared_error')\n",
    "print('Cross-validated MSE:', -scores.mean())"
   ]
  },
  {
   "cell_type": "code",
   "execution_count": 44,
   "id": "7638e811-a1dd-4528-91a1-c32c214aa00a",
   "metadata": {},
   "outputs": [
    {
     "data": {
      "image/png": "[encoded data removed]",
      "text/plain": [
       "<Figure size 1000x600 with 1 Axes>"
      ]
     },
     "metadata": {},
     "output_type": "display_data"
    }
   ],
   "source": [
    "# Plot histogram of errors\n",
    "plt.figure(figsize=(10, 6))\n",
    "plt.hist(errors, bins=50, edgecolor='k', alpha=0.7)\n",
    "plt.title('Distribution of Errors')\n",
    "plt.xlabel('Error')\n",
    "plt.ylabel('Frequency')\n",
    "plt.show()\n"
   ]
  },
  {
   "cell_type": "markdown",
   "id": "00fa5530-13e1-4817-b4ec-2f74099262d7",
   "metadata": {},
   "source": [
    "seeing the MSE score shows that the model is still overfitting "
   ]
  },
  {
   "cell_type": "code",
   "execution_count": 45,
   "id": "ef9470de-d74e-48a8-abec-edc43dde2a03",
   "metadata": {},
   "outputs": [],
   "source": [
    "# Ensure none of the features are leaking information\n",
    "# Split the data\n",
    "# Define features and target variable\n",
    "X = df[numerical_features + categorical_features]\n",
    "y = df['crime_count_location']\n",
    "\n",
    "# Split the data\n",
    "X_train, X_test, y_train, y_test = train_test_split(X, y, test_size=0.2, random_state=42)"
   ]
  },
  {
   "cell_type": "code",
   "execution_count": 46,
   "id": "4df132a6-da32-4d74-98b9-20f772626254",
   "metadata": {},
   "outputs": [
    {
     "name": "stdout",
     "output_type": "stream",
     "text": [
      "Mean Squared Error: 945.0178580241453\n",
      "R-squared: 0.07213933233627856\n"
     ]
    }
   ],
   "source": [
    "from sklearn.pipeline import Pipeline\n",
    "from sklearn.linear_model import Ridge\n",
    "\n",
    "# Create the pipeline\n",
    "pipeline = Pipeline(steps=[('preprocessor', preprocessor),\n",
    "                           ('model', Ridge(alpha=1.0))])\n",
    "\n",
    "# Debug: Fit the pipeline and catch errors\n",
    "try:\n",
    "    pipeline.fit(X_train, y_train)\n",
    "    y_pred = pipeline.predict(X_test)\n",
    "    mse = mean_squared_error(y_test, y_pred)\n",
    "    r2 = r2_score(y_test, y_pred)\n",
    "    print('Mean Squared Error:', mse)\n",
    "    print('R-squared:', r2)\n",
    "except Exception as e:\n",
    "    print(f\"Error during pipeline fit/predict: {e}\")\n"
   ]
  },
  {
   "cell_type": "code",
   "execution_count": 47,
   "id": "3a9ba7ce-49f2-49e1-99eb-1b2374754ed7",
   "metadata": {},
   "outputs": [
    {
     "data": {
      "image/png": "[encoded data removed]",
      "text/plain": [
       "<Figure size 1000x600 with 1 Axes>"
      ]
     },
     "metadata": {},
     "output_type": "display_data"
    }
   ],
   "source": [
    "# Plot actual vs. predicted values\n",
    "plt.figure(figsize=(10, 6))\n",
    "plt.scatter(y_test, y_pred, alpha=0.5)\n",
    "plt.plot([min(y_test), max(y_test)], [min(y_test), max(y_test)], color='r', linestyle='--')\n",
    "plt.title('Actual vs. Predicted Values')\n",
    "plt.xlabel('Actual Values')\n",
    "plt.ylabel('Predicted Values')\n",
    "plt.show()\n"
   ]
  },
  {
   "cell_type": "code",
   "execution_count": 48,
   "id": "1e4b4514-d87d-4a7f-8425-574943ed2ca8",
   "metadata": {},
   "outputs": [
    {
     "name": "stdout",
     "output_type": "stream",
     "text": [
      "Cross-validated MSE: 995.9566865992332\n"
     ]
    }
   ],
   "source": [
    "# Perform cross-validation\n",
    "try:\n",
    "    cv_scores = cross_val_score(pipeline, X, y, cv=5, scoring='neg_mean_squared_error', error_score='raise')\n",
    "    print(\"Cross-validated MSE:\", -cv_scores.mean())\n",
    "except Exception as e:\n",
    "    print(f\"Error during cross-validation: {e}\")\n"
   ]
  },
  {
   "cell_type": "code",
   "execution_count": null,
   "id": "6372c85d-fbb6-4ea3-84cf-13dcc8697496",
   "metadata": {},
   "outputs": [],
   "source": []
  }
 ],
 "metadata": {
  "kernelspec": {
   "display_name": "Python 3 (ipykernel)",
   "language": "python",
   "name": "python3"
  },
  "language_info": {
   "codemirror_mode": {
    "name": "ipython",
    "version": 3
   },
   "file_extension": ".py",
   "mimetype": "text/x-python",
   "name": "python",
   "nbconvert_exporter": "python",
   "pygments_lexer": "ipython3",
   "version": "3.11.7"
  }
 },
 "nbformat": 4,
 "nbformat_minor": 5
}
